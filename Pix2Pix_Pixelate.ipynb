{
  "nbformat": 4,
  "nbformat_minor": 0,
  "metadata": {
    "colab": {
      "provenance": [],
      "authorship_tag": "ABX9TyPLAfcVvmmHawyrZMmOckIl",
      "include_colab_link": true
    },
    "kernelspec": {
      "name": "python3",
      "display_name": "Python 3"
    },
    "language_info": {
      "name": "python"
    }
  },
  "cells": [
    {
      "cell_type": "markdown",
      "metadata": {
        "id": "view-in-github",
        "colab_type": "text"
      },
      "source": [
        "<a href=\"https://colab.research.google.com/github/LiamSymes/Pix2pix---Pixelated-Anime/blob/main/Pix2Pix_Pixelate.ipynb\" target=\"_parent\"><img src=\"https://colab.research.google.com/assets/colab-badge.svg\" alt=\"Open In Colab\"/></a>"
      ]
    },
    {
      "cell_type": "code",
      "source": [
        "# Loading in datasets\n",
        "!pip install datasets"
      ],
      "metadata": {
        "id": "dQ8JRHwA9KJL"
      },
      "execution_count": null,
      "outputs": []
    },
    {
      "cell_type": "code",
      "source": [
        "# mount google drive\n",
        "from google.colab import drive\n",
        "drive.mount('/content/gdrive')"
      ],
      "metadata": {
        "id": "UxppR_149Nm0"
      },
      "execution_count": null,
      "outputs": []
    },
    {
      "cell_type": "code",
      "source": [
        "# Using notebook login for huggingface to access dataset (Not needed for all datasets)\n",
        "from huggingface_hub import notebook_login\n",
        "\n",
        "notebook_login()"
      ],
      "metadata": {
        "id": "1KXGTcPV9O0s"
      },
      "execution_count": null,
      "outputs": []
    },
    {
      "cell_type": "code",
      "source": [
        "# Use 'secrets' for huggingface token (Not needed for all datasets)\n",
        "from google.colab import userdata\n",
        "userdata.get('Huggingface')"
      ],
      "metadata": {
        "id": "MkcucdJDrUKY"
      },
      "execution_count": null,
      "outputs": []
    },
    {
      "cell_type": "code",
      "source": [
        "# Load the desired dataset\n",
        "from datasets import load_dataset\n",
        "\n",
        "dataset = load_dataset(\"andrewburns/anime_sprites_v1\")\n"
      ],
      "metadata": {
        "id": "Y09KbrPI9QWt"
      },
      "execution_count": null,
      "outputs": []
    },
    {
      "cell_type": "code",
      "source": [
        "# Resizing images from dataset and saving to a folder.\n",
        "import os\n",
        "import requests\n",
        "from PIL import Image\n",
        "from io import BytesIO\n",
        "from datasets import load_dataset\n",
        "\n",
        "# Load the dataset\n",
        "dataset = load_dataset(\"andrewburns/anime_sprites_v1\")\n",
        "\n",
        "# Output folder to save resized images\n",
        "output_folder = '/content/gdrive/MyDrive/BaseImages'\n",
        "\n",
        "# Iterate through X amount of images in the \"train\" split of the dataset\n",
        "for i in range(500, 505):\n",
        "    try:\n",
        "        # Access the image URL\n",
        "        image_url = dataset['train'][i][\"image\"][\"path\"]\n",
        "\n",
        "        # Download the image from the URL\n",
        "        response = requests.get(image_url)\n",
        "\n",
        "        if response.status_code == 200:\n",
        "            # Open the image using PIL\n",
        "            image = Image.open(BytesIO(response.content))\n",
        "\n",
        "            # Resize the image\n",
        "            resized = image.resize((650, 650))\n",
        "\n",
        "            # Save the resized image\n",
        "            resized.save(os.path.join(output_folder, f\"resized_image_{i + 1}.png\"))\n",
        "            print(f\"Resized image {i + 1} saved successfully\")\n",
        "        else:\n",
        "            print(f\"Failed to download image from URL: {image_url}\")\n",
        "    except Exception as e:\n",
        "        print(f\"Error processing image {i}: {e}\")\n",
        "\n",
        "\n"
      ],
      "metadata": {
        "id": "vgQ51JsdNWKM"
      },
      "execution_count": null,
      "outputs": []
    },
    {
      "cell_type": "code",
      "source": [
        "# Pixelating images and saving as the same name (ready for Pix2Pix training)\n",
        "import os\n",
        "from PIL import Image\n",
        "\n",
        "# Path to the folder containing images\n",
        "folder_path = '/content/gdrive/MyDrive/BaseImages'\n",
        "\n",
        "# Create a folder to save the pixelated images\n",
        "output_folder = '/content/gdrive/MyDrive/PixelatedImages'\n",
        "os.makedirs(output_folder, exist_ok=True)\n",
        "\n",
        "# Iterate through all files in the folder\n",
        "for filename in sorted(os.listdir(folder_path)):  # Sorting the filenames ensures they are processed in order\n",
        "    # Check if the file is an image file\n",
        "    if filename.endswith(('.png', '.jpg', '.jpeg', '.gif')):\n",
        "        try:\n",
        "            # Open the image using PIL\n",
        "            image_path = os.path.join(folder_path, filename)\n",
        "            image = Image.open(image_path)\n",
        "\n",
        "            # Resize the image to a tiny size\n",
        "            image_tiny = image.resize((200, 200))\n",
        "\n",
        "            # Pixelization: Resize the tiny image back to original size using nearest neighbor interpolation\n",
        "            pixelated = image_tiny.resize(image.size, Image.NEAREST)\n",
        "\n",
        "            # Save the pixelated image with the same name as the original image\n",
        "            pixelated.save(os.path.join(output_folder, filename))\n",
        "\n",
        "        except Exception as e:\n",
        "            print(f\"Error processing image {filename}: {e}\")\n"
      ],
      "metadata": {
        "id": "iA6PUMLxC-eQ"
      },
      "execution_count": 7,
      "outputs": []
    }
  ]
}