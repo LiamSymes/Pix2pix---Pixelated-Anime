{
  "nbformat": 4,
  "nbformat_minor": 0,
  "metadata": {
    "colab": {
      "provenance": [],
      "gpuType": "V100",
      "authorship_tag": "ABX9TyM1ePqZT2V91Z2kSHgrDC6z",
      "include_colab_link": true
    },
    "kernelspec": {
      "name": "python3",
      "display_name": "Python 3"
    },
    "language_info": {
      "name": "python"
    },
    "accelerator": "GPU"
  },
  "cells": [
    {
      "cell_type": "markdown",
      "metadata": {
        "id": "view-in-github",
        "colab_type": "text"
      },
      "source": [
        "<a href=\"https://colab.research.google.com/github/LiamSymes/Pix2pix---Pixelated-Anime/blob/main/AnimePix2Pix.ipynb\" target=\"_parent\"><img src=\"https://colab.research.google.com/assets/colab-badge.svg\" alt=\"Open In Colab\"/></a>"
      ]
    },
    {
      "cell_type": "code",
      "execution_count": null,
      "metadata": {
        "id": "zABU0JgGfFq2"
      },
      "outputs": [],
      "source": [
        "# git clone the project folder\n",
        "!git clone https://github.com/junyanz/pytorch-CycleGAN-and-pix2pix"
      ]
    },
    {
      "cell_type": "code",
      "source": [
        "# change root directory to 'pytorch-CycleGAN-and-pix2pix/'\n",
        "import os\n",
        "os.chdir('/content/pytorch-CycleGAN-and-pix2pix/')"
      ],
      "metadata": {
        "id": "LciVMAHCfIhm"
      },
      "execution_count": null,
      "outputs": []
    },
    {
      "cell_type": "code",
      "source": [
        "# install dependencies\n",
        "!pip install -r requirements.txt"
      ],
      "metadata": {
        "id": "5lQxtr-afLY1"
      },
      "execution_count": null,
      "outputs": []
    },
    {
      "cell_type": "code",
      "source": [
        "# mount google drive\n",
        "from google.colab import drive\n",
        "drive.mount('/content/gdrive')"
      ],
      "metadata": {
        "id": "j_iFxjEyfOa_"
      },
      "execution_count": null,
      "outputs": []
    },
    {
      "cell_type": "code",
      "source": [
        "# download and unzip dataset folder\n",
        "!unzip '/content/gdrive/MyDrive/PairedAnimeImages3-20240428T165711Z-001.zip' > /dev/null"
      ],
      "metadata": {
        "id": "SICYNZOtfX4W"
      },
      "execution_count": null,
      "outputs": []
    },
    {
      "cell_type": "code",
      "source": [
        "# run this script to generate combined images from your pairs of images.  Make sure you check the instructions to make sure you have the correct folder structure before uploading your dataset.\n",
        "!python 'datasets/combine_A_and_B.py' --fold_A 'PairedAnimeImages3/A' --fold_B 'PairedAnimeImages3/B' --fold_AB 'PairedAnimeImages3'"
      ],
      "metadata": {
        "id": "W_w-x6WV1kcq"
      },
      "execution_count": null,
      "outputs": []
    },
    {
      "cell_type": "code",
      "source": [
        "# visualise one of the combined images\n",
        "import matplotlib.pyplot as plt\n",
        "\n",
        "img = plt.imread('PairedAnimeImages3/train/resized_image_1.png')\n",
        "\n",
        "plt.imshow(img)"
      ],
      "metadata": {
        "id": "LPqZkJtZ1tmR"
      },
      "execution_count": null,
      "outputs": []
    },
    {
      "cell_type": "code",
      "source": [
        "!python train.py --dataroot PairedAnimeImages3 --name EUVP_pix2pix --model pix2pix --n_epochs 200 --n_epochs_decay 200 #--continue_train --epoch_count 300 #(Uncomment and change epoch amount to continue training)"
      ],
      "metadata": {
        "id": "5TdE-d_VK1gG"
      },
      "execution_count": null,
      "outputs": []
    },
    {
      "cell_type": "code",
      "source": [
        "!ls checkpoints/"
      ],
      "metadata": {
        "id": "r6mR2os4MXY1"
      },
      "execution_count": null,
      "outputs": []
    },
    {
      "cell_type": "code",
      "source": [
        "!python test.py --dataroot PairedAnimeImages3 --model pix2pix --name EUVP_pix2pix"
      ],
      "metadata": {
        "id": "awLA8Me1MZUv"
      },
      "execution_count": null,
      "outputs": []
    },
    {
      "cell_type": "code",
      "source": [
        "img = plt.imread('/content/pytorch-CycleGAN-and-pix2pix/results/EUVP_pix2pix/test_latest/images/test_image_10_fake_B.png')\n",
        "plt.imshow(img)"
      ],
      "metadata": {
        "id": "Ftg_ivbJ5K6A"
      },
      "execution_count": null,
      "outputs": []
    },
    {
      "cell_type": "code",
      "source": [
        "img = plt.imread('/content/pytorch-CycleGAN-and-pix2pix/results/EUVP_pix2pix/test_latest/images/test_image_10_real_A.png')\n",
        "plt.imshow(img)"
      ],
      "metadata": {
        "id": "NHnnLLlP0zkD"
      },
      "execution_count": null,
      "outputs": []
    },
    {
      "cell_type": "code",
      "source": [
        "img = plt.imread('/content/pytorch-CycleGAN-and-pix2pix/results/EUVP_pix2pix/test_latest/images/test_image_10_real_B.png')\n",
        "plt.imshow(img)"
      ],
      "metadata": {
        "id": "b6iQt14XMyU_"
      },
      "execution_count": null,
      "outputs": []
    },
    {
      "cell_type": "code",
      "source": [
        "# To save results directly to Gdrive\n",
        "from google.colab import drive\n",
        "import shutil\n",
        "import os\n",
        "\n",
        "# Source directory containing images\n",
        "source_dir = '/content/pytorch-CycleGAN-and-pix2pix/results/EUVP_pix2pix/test_latest/images'\n",
        "\n",
        "# Destination directory in Google Drive\n",
        "destination_dir = '/content/gdrive/MyDrive/Epoch200-200'\n",
        "\n",
        "# Loop through each file in the source directory\n",
        "for filename in os.listdir(source_dir):\n",
        "    # Check if the file is a regular file\n",
        "    if os.path.isfile(os.path.join(source_dir, filename)):\n",
        "        # Copy the file to the destination directory\n",
        "        shutil.copy(os.path.join(source_dir, filename), destination_dir)\n",
        "\n",
        "print(\"Images have been copied to Google Drive.\")\n"
      ],
      "metadata": {
        "id": "pIHmlt79ltuM"
      },
      "execution_count": null,
      "outputs": []
    }
  ]
}